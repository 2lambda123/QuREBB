{
 "cells": [
  {
   "cell_type": "code",
   "execution_count": 1,
   "metadata": {},
   "outputs": [],
   "source": [
    "import sys\n",
    "from os.path import expanduser, join\n",
    "home = expanduser(\"~\")\n",
    "sys.path.append(join(home, 'Repositories/QuREBB'))\n",
    "\n",
    "import numpy as np\n",
    "\n",
    "import lib.protocol as protocol\n",
    "from protocols.tutorial_protocols import ProtocolA, ProtocolB, ProtocolC"
   ]
  },
  {
   "cell_type": "code",
   "execution_count": 2,
   "metadata": {},
   "outputs": [],
   "source": [
    "common_params = {\n",
    "    'gamma_dephasing': 30.5e6,\n",
    "    'splitting': 1e9,\n",
    "    'DW': 0.7,\n",
    "    'QE': 0.2,\n",
    "    'link_loss': 0.,\n",
    "    'insertion_loss': 0.5,\n",
    "    'dim': 3,\n",
    "    'dc_rate': 0,\n",
    "    'ideal': False\n",
    "}\n",
    "\n",
    "projector_params = {\n",
    "    'f_operation': -1.768e10,\n",
    "    'delta': 9.114e9,\n",
    "    'kappa_r': 21.8e9/2,\n",
    "    'kappa_t': 21.8e9/2, \n",
    "    'gamma': 92.5e6,\n",
    "    'g': 8.38e9,\n",
    "    'dc_rate': 0.000,\n",
    "    'alpha': None\n",
    "}\n",
    "\n",
    "emission_params = {\n",
    "    'f_operation': -1.768e10,\n",
    "    'delta': 9.114e9,\n",
    "    'kappa_in': 240e9,\n",
    "    'kappa_loss': 89e9, \n",
    "    'gamma': 100e6,\n",
    "    'g': 6.81e9,\n",
    "    'alpha': 0.1\n",
    "}\n",
    "projector_params.update(common_params)\n",
    "emission_params.update(common_params)"
   ]
  },
  {
   "cell_type": "code",
   "execution_count": 3,
   "metadata": {},
   "outputs": [
    {
     "data": {
      "text/plain": [
       "(0.7913083931029327, 0.024373187144396326)"
      ]
     },
     "execution_count": 3,
     "metadata": {},
     "output_type": "execute_result"
    }
   ],
   "source": [
    "p = ProtocolA(emission_params)\n",
    "p.run()"
   ]
  },
  {
   "cell_type": "code",
   "execution_count": 4,
   "metadata": {},
   "outputs": [
    {
     "data": {
      "text/plain": [
       "(0.5002503355646873, 0.007407869286075493)"
      ]
     },
     "execution_count": 4,
     "metadata": {},
     "output_type": "execute_result"
    }
   ],
   "source": [
    "p = ProtocolB(projector_params)\n",
    "p.run()"
   ]
  },
  {
   "cell_type": "code",
   "execution_count": 5,
   "metadata": {},
   "outputs": [
    {
     "data": {
      "text/plain": [
       "(0.5002503294495924, 0.01481573857215099)"
      ]
     },
     "execution_count": 5,
     "metadata": {},
     "output_type": "execute_result"
    }
   ],
   "source": [
    "p = ProtocolC(projector_params)\n",
    "p.run()"
   ]
  },
  {
   "cell_type": "code",
   "execution_count": null,
   "metadata": {},
   "outputs": [],
   "source": []
  },
  {
   "cell_type": "code",
   "execution_count": null,
   "metadata": {},
   "outputs": [],
   "source": []
  },
  {
   "cell_type": "code",
   "execution_count": null,
   "metadata": {},
   "outputs": [],
   "source": []
  }
 ],
 "metadata": {
  "kernelspec": {
   "display_name": "Python 3 (ipykernel)",
   "language": "python",
   "name": "python3"
  },
  "language_info": {
   "codemirror_mode": {
    "name": "ipython",
    "version": 3
   },
   "file_extension": ".py",
   "mimetype": "text/x-python",
   "name": "python",
   "nbconvert_exporter": "python",
   "pygments_lexer": "ipython3",
   "version": "3.11.6"
  }
 },
 "nbformat": 4,
 "nbformat_minor": 4
}
