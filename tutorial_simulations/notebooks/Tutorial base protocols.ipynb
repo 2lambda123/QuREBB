{
 "cells": [
  {
   "cell_type": "code",
   "execution_count": 1,
   "metadata": {},
   "outputs": [],
   "source": [
    "import sys\n",
    "from os.path import expanduser, join\n",
    "home = expanduser(\"~\")\n",
    "sys.path.append(join(home, 'Repositories/QuREBB'))\n",
    "\n",
    "import numpy as np\n",
    "\n",
    "import lib.protocol as protocol\n",
    "from protocols.tutorial_protocols import ProtocolA, ProtocolB, ProtocolC"
   ]
  },
  {
   "cell_type": "code",
   "execution_count": 2,
   "metadata": {},
   "outputs": [],
   "source": [
    "common_params = {\n",
    "    'gamma_dephasing': 30.5e6,\n",
    "    'splitting': 1e9,\n",
    "    'DW': 0.7,\n",
    "    'QE': 0.2,\n",
    "    'link_loss': 0.,\n",
    "    'insertion_loss': 0.5,\n",
    "    'dim': 3,\n",
    "    'dc_rate': 0,\n",
    "    'ideal': False\n",
    "}\n",
    "\n",
    "projector_params = {\n",
    "    'f_operation': -1.768e10,\n",
    "    'delta': 9.114e9,\n",
    "    'kappa_r': 21.8e9/2,\n",
    "    'kappa_t': 21.8e9/2, \n",
    "    'gamma': 92.5e6,\n",
    "    'g': 8.38e9,\n",
    "    'dc_rate': 0.000,\n",
    "    'alpha': None\n",
    "}\n",
    "\n",
    "emission_params = {\n",
    "    'f_operation': -1.768e10,\n",
    "    'delta': 9.114e9,\n",
    "    'kappa_in': 240e9,\n",
    "    'kappa_loss': 89e9, \n",
    "    'gamma': 100e6,\n",
    "    'g': 6.81e9,\n",
    "    'alpha': 0.1\n",
    "}\n",
    "projector_params.update(common_params)\n",
    "emission_params.update(common_params)"
   ]
  },
  {
   "cell_type": "code",
   "execution_count": 3,
   "metadata": {},
   "outputs": [
    {
     "data": {
      "text/plain": [
       "(0.7913083938001583, 0.024373187144396326)"
      ]
     },
     "execution_count": 3,
     "metadata": {},
     "output_type": "execute_result"
    }
   ],
   "source": [
    "p = ProtocolA(emission_params)\n",
    "p.run()"
   ]
  },
  {
   "cell_type": "code",
   "execution_count": 4,
   "metadata": {},
   "outputs": [
    {
     "data": {
      "text/plain": [
       "(0.8171988366030465, 92.17853394742932)"
      ]
     },
     "execution_count": 4,
     "metadata": {},
     "output_type": "execute_result"
    }
   ],
   "source": [
    "p = ProtocolB(projector_params)\n",
    "p.run()"
   ]
  },
  {
   "cell_type": "code",
   "execution_count": 3,
   "metadata": {},
   "outputs": [
    {
     "name": "stdout",
     "output_type": "stream",
     "text": [
      "step 1: 0.9999999999999992\n",
      "step 2: 0.9999999999999998\n",
      "step 3: 0.9999999999999994\n",
      "step 4: 0.9999999999999996\n",
      "step 5: 0.9999999999999996\n",
      "step 6: 0.9999999999999996\n",
      "step 7: 0.9999999999999996\n",
      "step 9: 0.9999999999999994\n",
      "step 10: 0.9999999999999996\n"
     ]
    },
    {
     "data": {
      "text/plain": [
       "(0.5002503441054761, 0.01481573857215099)"
      ]
     },
     "execution_count": 3,
     "metadata": {},
     "output_type": "execute_result"
    }
   ],
   "source": [
    "p = ProtocolC(projector_params)\n",
    "p.run()"
   ]
  },
  {
   "cell_type": "code",
   "execution_count": 19,
   "metadata": {},
   "outputs": [
    {
     "data": {
      "text/latex": [
       "Quantum object: dims = [[2, 2], [2, 2]], shape = (4, 4), type = oper, isherm = True $ \\\\ \\left(\\begin{matrix}0.374 & (0.194-0.159j) & (0.194-0.159j) & 0.374\\\\(0.194+0.159j) & 0.169 & 0.169 & (0.194+0.159j)\\\\(0.194+0.159j) & 0.169 & 0.169 & (0.194+0.159j)\\\\0.374 & (0.194-0.159j) & (0.194-0.159j) & 0.374\\\\\\end{matrix}\\right)$names = [['Alice', 'Bob'], ['Alice', 'Bob']], kind = state"
      ],
      "text/plain": [
       "Quantum object: dims = [[2, 2], [2, 2]], shape = (4, 4), type = oper, isherm = True\n",
       "Qobj data =\n",
       "[[0.3742936 +6.93889390e-18j 0.19429133-1.59124590e-01j\n",
       "  0.19429133-1.59124590e-01j 0.3742936 +2.77555756e-17j]\n",
       " [0.19429133+1.59124590e-01j 0.16850343-9.97465999e-18j\n",
       "  0.16850343-5.63785130e-18j 0.19429133+1.59124590e-01j]\n",
       " [0.19429133+1.59124590e-01j 0.16850343+4.33680869e-19j\n",
       "  0.16850343+4.33680869e-18j 0.19429133+1.59124590e-01j]\n",
       " [0.3742936 +0.00000000e+00j 0.19429133-1.59124590e-01j\n",
       "  0.19429133-1.59124590e-01j 0.3742936 +0.00000000e+00j]]\n",
       "names: [['Alice', 'Bob'], ['Alice', 'Bob']]\n",
       "kind: state"
      ]
     },
     "execution_count": 19,
     "metadata": {},
     "output_type": "execute_result"
    }
   ],
   "source": []
  },
  {
   "cell_type": "code",
   "execution_count": null,
   "metadata": {},
   "outputs": [],
   "source": []
  },
  {
   "cell_type": "code",
   "execution_count": null,
   "metadata": {},
   "outputs": [],
   "source": []
  }
 ],
 "metadata": {
  "kernelspec": {
   "display_name": "Python 3 (ipykernel)",
   "language": "python",
   "name": "python3"
  },
  "language_info": {
   "codemirror_mode": {
    "name": "ipython",
    "version": 3
   },
   "file_extension": ".py",
   "mimetype": "text/x-python",
   "name": "python",
   "nbconvert_exporter": "python",
   "pygments_lexer": "ipython3",
   "version": "3.11.5"
  }
 },
 "nbformat": 4,
 "nbformat_minor": 4
}
