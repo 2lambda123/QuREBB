{
 "cells": [
  {
   "cell_type": "code",
   "execution_count": 16,
   "metadata": {},
   "outputs": [],
   "source": [
    "# Make sure that the package can be imported\n",
    "import sys\n",
    "from os.path import expanduser, join\n",
    "home = expanduser(\"~\")\n",
    "sys.path.append(join(home, 'Repositories/QuREBB'))\n",
    "from importlib import reload  # Python 3.4+\n",
    "\n",
    "import lib.states; reload(lib.states)\n",
    "from lib.states import *\n",
    "\n",
    "import lib.NQobj as nq; reload(nq)\n",
    "import lib.quantum_optical_modelling as qom; reload(qom)\n",
    "import lib.protocol as pc; reload(pc)\n",
    "\n",
    "import tools.simulation_tools as stools; reload(stools)\n",
    "\n",
    "from protocols.incoherent_emission import SingleClickProtocol\n",
    "from protocols.linear_reflection_class import LinearReflection, MidpointReflection\n",
    "\n",
    "import lib.LBB as lbb; reload(lbb)\n",
    "import lib.PBB as pbb; reload(pbb)\n",
    "\n",
    "\n",
    "\n",
    "import numpy as np\n",
    "import qutip as qt\n",
    "import scipy.constants as cst\n",
    "import matplotlib.pyplot as plt\n",
    "\n",
    "import time, datetime\n",
    "\n",
    "import h5py as h5\n",
    "save_path=join(home, 'Repositories/QuREBB/tutorial_simulations/simulation_data/')\n",
    "\n",
    "import time\n",
    "from copy import deepcopy\n",
    "\n",
    "qt.settings.auto_tidyup = False\n",
    "use_timestamp = False"
   ]
  },
  {
   "cell_type": "code",
   "execution_count": null,
   "metadata": {},
   "outputs": [],
   "source": []
  },
  {
   "attachments": {},
   "cell_type": "markdown",
   "metadata": {
    "tags": []
   },
   "source": [
    "# Simulating basic params"
   ]
  },
  {
   "attachments": {},
   "cell_type": "markdown",
   "metadata": {
    "tags": []
   },
   "source": [
    "## Parameters - Reflection based"
   ]
  },
  {
   "cell_type": "code",
   "execution_count": 38,
   "metadata": {},
   "outputs": [],
   "source": [
    "params_reflection = {\n",
    "    'f_operation': 0,\n",
    "    'kappa_in': 22e9/2,\n",
    "    'kappa_loss': 22e9/2, \n",
    "    'gamma': 0.093e9,\n",
    "    'delta': 0e9,\n",
    "    'splitting': 1.e9,\n",
    "    'g': 8.38e9,\n",
    "    'dim':4,\n",
    "    'alpha':None,\n",
    "    'gamma_dephasing': 0.03e9,\n",
    "    'loss':0.9,\n",
    "    'link_loss':0.9,\n",
    "    'insertion_loss': 0.5,\n",
    "    'dc_rate': 0.000,\n",
    "}\n"
   ]
  },
  {
   "attachments": {},
   "cell_type": "markdown",
   "metadata": {},
   "source": [
    "## Single Photon case"
   ]
  },
  {
   "cell_type": "code",
   "execution_count": 39,
   "metadata": {},
   "outputs": [],
   "source": [
    "sweep_params_reflection ={\n",
    "    \n",
    "    'delta':{\n",
    "        'range': np.linspace(0e9,100e9, int(50))\n",
    "    },\n",
    "    \n",
    "    'f_operation':{\n",
    "        'range': np.linspace(-15e9,1e9, int(1000))\n",
    "    },\n",
    "}"
   ]
  },
  {
   "cell_type": "code",
   "execution_count": 40,
   "metadata": {},
   "outputs": [],
   "source": [
    "## Defining protocol classes\n",
    "\n",
    "lr = LinearReflection('linear_refection', params_reflection, dim=2, photon_names = ['E','L'], sweep_params = sweep_params_reflection)\n",
    "\n",
    "mr = MidpointReflection('midpoint_reflection', params_reflection, dim=3, photon_names = ['Ea','La','Eb', 'Lb'], sweep_params = sweep_params_reflection)\n",
    "\n"
   ]
  },
  {
   "cell_type": "code",
   "execution_count": 17,
   "metadata": {},
   "outputs": [
    {
     "name": "stdout",
     "output_type": "stream",
     "text": [
      "file open\n",
      "linear_reflection_sp.h5\n"
     ]
    }
   ],
   "source": [
    "##saving\n",
    "\n",
    "if use_timestamp:\n",
    "    datest = datetime.datetime.now().strftime('%Y%m%d_%H%M%S') + '_'\n",
    "else:\n",
    "    datest=''\n",
    "\n",
    "try:\n",
    "    sim_name= datest+'linear_reflection_sp.h5'\n",
    "    datafile=h5.File(save_path+ sim_name, 'w')\n",
    "    print('file open')\n",
    "    print(sim_name)\n",
    "except:\n",
    "    datafile.close()"
   ]
  },
  {
   "cell_type": "code",
   "execution_count": 42,
   "metadata": {},
   "outputs": [
    {
     "name": "stdout",
     "output_type": "stream",
     "text": [
      "Sweep time with multi was 0.503 s\n"
     ]
    }
   ],
   "source": [
    "try:\n",
    "    grp_par=datafile.create_group('sweep_params')\n",
    "    for name in sweep_params:\n",
    "        grp_par.attrs.create(name, sweep_params_reflection[name]['range'])\n",
    "    \n",
    "    grp_data=datafile.create_group('data')\n",
    "    \n",
    "    F_lr, R_lr = lr.multiprocess_sweep()\n",
    "    fr_lr = stools.get_fidelity_rate_curve(F_lr, R_lr)\n",
    "    \n",
    "    grp_data.create_dataset('fidelity_map', data=np.array(F_lr))\n",
    "    grp_data.create_dataset('rate_map', data=np.array(R_lr))\n",
    "    grp_data.create_dataset('fidelity_curve', data=np.array(fr_lr[0]))\n",
    "    grp_data.create_dataset('rate_curve', data=np.array(fr_lr[1]))\n",
    "    grp_data.attrs.update({k: params_reflection[k] for k in params_reflection.keys() - {'alpha'}})\n",
    "    \n",
    "finally:\n",
    "    datafile.close()\n"
   ]
  },
  {
   "cell_type": "code",
   "execution_count": 13,
   "metadata": {},
   "outputs": [],
   "source": [
    "##saving\n",
    "\n",
    "if use_timestamp:\n",
    "    datest = datetime.datetime.now().strftime('%Y%m%d_%H%M%S') + '_'\n",
    "else:\n",
    "    datest=''\n",
    "    \n",
    "try:\n",
    "    sim_name= datest+'midpoint_reflection_sp.h5'\n",
    "    datafile=h5.File(save_path+ sim_name, 'w')\n",
    "    print('file open')\n",
    "    print(sim_name)\n",
    "except:\n",
    "    datafile.close()"
   ]
  },
  {
   "cell_type": "code",
   "execution_count": 44,
   "metadata": {},
   "outputs": [
    {
     "name": "stdout",
     "output_type": "stream",
     "text": [
      "Sweep time with multi was 0.700 s\n"
     ]
    }
   ],
   "source": [
    "\n",
    "\n",
    "try:\n",
    "    grp_par=datafile.create_group('sweep_params')\n",
    "    for name in sweep_params:\n",
    "        grp_par.attrs.create(name, sweep_params_reflection[name]['range'])\n",
    "    \n",
    "    grp_data=datafile.create_group('data')\n",
    "    \n",
    "    F_mr, R_mr = mr.multiprocess_sweep()\n",
    "    fr_mr = stools.get_fidelity_rate_curve(F_mr, R_mr)\n",
    "    \n",
    "    grp_data.create_dataset('fidelity_map', data=np.array(F_mr))\n",
    "    grp_data.create_dataset('rate_map', data=np.array(R_mr))\n",
    "    grp_data.create_dataset('fidelity_curve', data=np.array(fr_mr[0]))\n",
    "    grp_data.create_dataset('rate_curve', data=np.array(fr_mr[1]))\n",
    "    grp_data.attrs.update({k: params_reflection[k] for k in params_reflection.keys() - {'alpha'}})\n",
    "    \n",
    "finally:\n",
    "    datafile.close()"
   ]
  },
  {
   "attachments": {},
   "cell_type": "markdown",
   "metadata": {},
   "source": [
    "### WCS Case"
   ]
  },
  {
   "cell_type": "code",
   "execution_count": 16,
   "metadata": {},
   "outputs": [],
   "source": [
    "params_wcs = {\n",
    "    'f_operation': 0,\n",
    "    'kappa_in': 22e9/2,\n",
    "    'kappa_loss': 22e9/2, \n",
    "    'gamma': 0.093e9,\n",
    "    'delta': 0e9,\n",
    "    'splitting': 1.e9,\n",
    "    'g': 8.38e9,\n",
    "    'dim':4,\n",
    "    'alpha':0.001,\n",
    "    'gamma_dephasing': 0.03e9,\n",
    "    'loss':0.9,\n",
    "    'link_loss':0.9,\n",
    "    'insertion_loss': 0.5,\n",
    "    'dc_rate': 0.000,\n",
    "}"
   ]
  },
  {
   "cell_type": "code",
   "execution_count": 17,
   "metadata": {},
   "outputs": [],
   "source": [
    "pts = 50\n",
    "\n",
    "sweep_params_wcs ={\n",
    "    \n",
    "    'delta':{\n",
    "        'range': np.linspace(0e9,100e9, int(30))\n",
    "    },\n",
    "    \n",
    "    'f_operation':{\n",
    "        'range': np.linspace(-15e9,1e9, int(501))\n",
    "    },\n",
    "    'alpha':{\n",
    "        'range': np.linspace( np.sqrt(0.0001) , np.sqrt(2.) , int(10))\n",
    "    }\n",
    "}"
   ]
  },
  {
   "cell_type": "code",
   "execution_count": null,
   "metadata": {},
   "outputs": [],
   "source": []
  },
  {
   "cell_type": "code",
   "execution_count": 28,
   "metadata": {},
   "outputs": [],
   "source": [
    "## Now using protocol class\n",
    "\n",
    "lr_wcs = LinearReflection('linear_refection', params_wcs, dim=4, photon_names = ['E','L'], sweep_params = sweep_params_wcs)\n",
    "\n",
    "# mr_wcs = MidpointReflection('midpoint_reflection', params, dim=4, photon_names = ['Ea','La','Eb', 'Lb'], sweep_params = sweep_params)\n"
   ]
  },
  {
   "cell_type": "code",
   "execution_count": 8,
   "metadata": {},
   "outputs": [
    {
     "name": "stdout",
     "output_type": "stream",
     "text": [
      "file open\n",
      "linear_reflection_wcs.h5\n"
     ]
    }
   ],
   "source": [
    "##saving\n",
    "if use_timestamp:\n",
    "    datest = datetime.datetime.now().strftime('%Y%m%d_%H%M%S') + '_'\n",
    "else:\n",
    "    datest=''\n",
    "\n",
    "try:\n",
    "    sim_name= datest+'linear_reflection_wcs.h5'\n",
    "    datafile=h5.File(save_path+ sim_name, 'w')\n",
    "    print('file open')\n",
    "    print(sim_name)\n",
    "except:\n",
    "    datafile.close()"
   ]
  },
  {
   "cell_type": "code",
   "execution_count": 30,
   "metadata": {},
   "outputs": [
    {
     "name": "stdout",
     "output_type": "stream",
     "text": [
      "Sweep time with multi was 584.363 s\n"
     ]
    }
   ],
   "source": [
    "try:\n",
    "    grp_par=datafile.create_group('sweep_params')\n",
    "    for name in sweep_params:\n",
    "        grp_par.attrs.create(name, sweep_params_wcs[name]['range'])\n",
    "    \n",
    "    grp_data=datafile.create_group('data')\n",
    "    \n",
    "    F_lr, R_lr = lr_wcs.multiprocess_sweep()\n",
    "    fr_lr = stools.get_fidelity_rate_curve(F_lr, R_lr)\n",
    "    \n",
    "    grp_data.create_dataset('fidelity_map', data=np.array(F_lr))\n",
    "    grp_data.create_dataset('rate_map', data=np.array(R_lr))\n",
    "    grp_data.create_dataset('fidelity_curve', data=np.array(fr_lr[0]))\n",
    "    grp_data.create_dataset('rate_curve', data=np.array(fr_lr[1]))\n",
    "    grp_data.attrs.update({k: params_wcs[k] for k in params_wcs.keys() - {'alpha'}})\n",
    "    \n",
    "finally:\n",
    "    datafile.close()"
   ]
  },
  {
   "attachments": {},
   "cell_type": "markdown",
   "metadata": {},
   "source": [
    "## Emission Based"
   ]
  },
  {
   "cell_type": "code",
   "execution_count": 2,
   "metadata": {},
   "outputs": [],
   "source": [
    "#Emission based\n",
    "\n",
    "params_emission = {\n",
    "    'alpha': 0.1,\n",
    "    'dim': 3,\n",
    "    'dc_rate': 0.000,\n",
    "    'phase': 0.,\n",
    "    'kappa_in': 240e9,\n",
    "    'kappa_loss': 90e9,\n",
    "    'DW': .7,\n",
    "    'QE': .2,\n",
    "    'gamma': 0.1e9,\n",
    "    'gamma_dephasing': 0.03e9,\n",
    "    'g':6.81e9,\n",
    "    'link_loss':0.9,\n",
    "    'insertion_efficiency': 0.5\n",
    "}\n",
    "\n",
    "sweep_params_emission ={\n",
    "    \n",
    "    'alpha':{\n",
    "        'range': np.linspace(0.0001, 0.5, 100)\n",
    "    }\n",
    "}"
   ]
  },
  {
   "cell_type": "code",
   "execution_count": 9,
   "metadata": {},
   "outputs": [
    {
     "name": "stdout",
     "output_type": "stream",
     "text": [
      "file open\n",
      "_midpoint_emission.h5\n"
     ]
    }
   ],
   "source": [
    "##saving\n",
    "if use_timestamp:\n",
    "    datest = datetime.datetime.now().strftime('%Y%m%d_%H%M%S') + '_'\n",
    "else:\n",
    "    datest=''\n",
    "try:\n",
    "    sim_name= datest+'midpoint_emission.h5'\n",
    "    datafile=h5.File(save_path+ sim_name, 'w')\n",
    "    print('file open')\n",
    "    print(sim_name)\n",
    "except:\n",
    "    datafile.close()"
   ]
  },
  {
   "cell_type": "code",
   "execution_count": 4,
   "metadata": {},
   "outputs": [
    {
     "name": "stdout",
     "output_type": "stream",
     "text": [
      "dict_keys(['alpha', 'dim', 'dc_rate', 'phase', 'kappa_in', 'kappa_loss', 'DW', 'QE', 'gamma', 'gamma_dephasing', 'g', 'link_loss', 'insertion_efficiency'])\n",
      "dict_keys(['alpha', 'dim', 'dc_rate', 'phase', 'kappa_in', 'kappa_loss', 'DW', 'QE', 'gamma', 'gamma_dephasing', 'g', 'link_loss', 'insertion_efficiency'])\n",
      "dict_keys(['alpha', 'dim', 'dc_rate', 'phase', 'kappa_in', 'kappa_loss', 'DW', 'QE', 'gamma', 'gamma_dephasing', 'g', 'link_loss', 'insertion_efficiency'])\n",
      "dict_keys(['alpha', 'dim', 'dc_rate', 'phase', 'kappa_in', 'kappa_loss', 'DW', 'QE', 'gamma', 'gamma_dephasing', 'g', 'link_loss', 'insertion_efficiency'])\n",
      "Sweep time with multi was 0.501 s\n"
     ]
    }
   ],
   "source": [
    "\n",
    "\n",
    "try:\n",
    "    grp_par=datafile.create_group('sweep_params')\n",
    "    for name in sweep_params_emission:\n",
    "        grp_par.attrs.create(name, sweep_params_emission[name]['range'])\n",
    "    \n",
    "    grp_data=datafile.create_group('data')\n",
    "    \n",
    "    ff,rr = stools.multiprocess_sweep(sweep_params_emission, SingleClickProtocol, params_emission)\n",
    "    fr = stools.get_fidelity_rate_curve(ff, rr)\n",
    "    \n",
    "    grp_data.create_dataset('fidelity_map', data=np.array(ff))\n",
    "    grp_data.create_dataset('rate_map', data=np.array(rr))\n",
    "    grp_data.create_dataset('fidelity_curve', data=np.array(fr[0]))\n",
    "    grp_data.create_dataset('rate_curve', data=np.array(fr[1]))\n",
    "    grp_data.attrs.update(params_emission)\n",
    "    \n",
    "finally:\n",
    "    datafile.close()"
   ]
  },
  {
   "attachments": {},
   "cell_type": "markdown",
   "metadata": {},
   "source": [
    "# Sweeping Cooperativity"
   ]
  },
  {
   "attachments": {},
   "cell_type": "markdown",
   "metadata": {
    "tags": []
   },
   "source": [
    "## Reflecion based - Single photon"
   ]
  },
  {
   "attachments": {},
   "cell_type": "markdown",
   "metadata": {
    "tags": []
   },
   "source": [
    "### Parameters"
   ]
  },
  {
   "cell_type": "code",
   "execution_count": 30,
   "metadata": {},
   "outputs": [],
   "source": [
    "params = {\n",
    "    'f_operation': 0,\n",
    "    'kappa_in': 22e9/2,\n",
    "    'kappa_loss': 22e9/2, \n",
    "    'gamma': 0.093e9,\n",
    "    'delta': 0e9,\n",
    "    'splitting': 1.e9,\n",
    "    'g': 8.38e9,\n",
    "    #'C':10,\n",
    "    'dim':4,\n",
    "    'alpha':None,\n",
    "    'gamma_dephasing': 0.03e9,\n",
    "    'loss':0.9,\n",
    "    'link_loss':0.9,\n",
    "    'insertion_loss': 0.5,\n",
    "    'dc_rate': 0.000,\n",
    "}\n",
    "\n",
    "pts = 500\n",
    "\n",
    "sweep_params ={\n",
    "    \n",
    "    'delta':{\n",
    "        'range': np.linspace(-2e9,200e9, int(50))\n",
    "    },\n",
    "    \n",
    "    'f_operation':{\n",
    "        'range': np.linspace(-30e9,0e9, int(1501))\n",
    "    },\n",
    "}\n",
    "\n",
    "\n"
   ]
  },
  {
   "attachments": {},
   "cell_type": "markdown",
   "metadata": {},
   "source": [
    "### Cooperativity by increasing kappa"
   ]
  },
  {
   "cell_type": "code",
   "execution_count": 29,
   "metadata": {},
   "outputs": [],
   "source": [
    "lr = LinearReflection('linear_refection', params, dim=2, photon_names = ['E','L'], sweep_params = sweep_params)\n"
   ]
  },
  {
   "cell_type": "code",
   "execution_count": 10,
   "metadata": {},
   "outputs": [
    {
     "name": "stdout",
     "output_type": "stream",
     "text": [
      "file open\n",
      "linear_reflection_coop_sweep_kappa.h5\n"
     ]
    }
   ],
   "source": [
    "##saving\n",
    "\n",
    "if use_timestamp:\n",
    "    datest = datetime.datetime.now().strftime('%Y%m%d_%H%M%S') + '_'\n",
    "else:\n",
    "    datest=''\n",
    "\n",
    "\n",
    "try:\n",
    "    sim_name= datest+'linear_reflection_coop_sweep_kappa.h5'\n",
    "    datafile=h5.File(save_path+ sim_name, 'w')\n",
    "    print('file open')\n",
    "    print(sim_name)\n",
    "except:\n",
    "    datafile.close()"
   ]
  },
  {
   "cell_type": "code",
   "execution_count": 31,
   "metadata": {},
   "outputs": [
    {
     "name": "stdout",
     "output_type": "stream",
     "text": [
      "Sweep time with multi was 27671.131 s\n",
      "Sweep time with multi was 26477.413 s\n",
      "Sweep time with multi was 26660.018 s\n",
      "Sweep time with multi was 26439.790 s\n",
      "Sweep time with multi was 26408.322 s\n"
     ]
    }
   ],
   "source": [
    "\n",
    "c_sweep = np.array([1, 10, 50, 100, 200, 500, 1000]) \n",
    "\n",
    "for c in c_sweep:\n",
    "    kappa_tot = 4*lr.parameters['g']**2/(lr.parameters['gamma']+lr.parameters['gamma_dephasing'])/c\n",
    "    lr.set_param('kappa_in', kappa_tot/2)\n",
    "    lr.set_param('kappa_loss', kappa_tot/2)\n",
    "    \n",
    "    grp_c = datafile.create_group('c_{}'.format(int(c)))\n",
    "    try:\n",
    "        grp_par=grp_c.create_group('sweep_params')\n",
    "        for name in sweep_params:\n",
    "            grp_par.attrs.create(name, lr.sweep_params[name]['range'])\n",
    "\n",
    "        grp_data=grp_c.create_group('data')\n",
    "\n",
    "        ff,rr = lr.multiprocess_sweep()\n",
    "        fr = stools.get_fidelity_rate_curve(ff, rr)\n",
    "\n",
    "        grp_data.create_dataset('fidelity_map', data=np.array(ff))\n",
    "        grp_data.create_dataset('rate_map', data=np.array(rr))\n",
    "        grp_data.create_dataset('fidelity_curve', data=np.array(fr[0]))\n",
    "        grp_data.create_dataset('rate_curve', data=np.array(fr[1]))\n",
    "        grp_data.attrs.update({k: params[k] for k in params.keys() - {'alpha'}})\n",
    "    except:\n",
    "        print('Running C = {} did not work'.format(c))\n",
    "\n",
    "\n",
    "datafile.close()"
   ]
  },
  {
   "cell_type": "code",
   "execution_count": 8,
   "metadata": {},
   "outputs": [],
   "source": [
    "## resetting protocol\n",
    "\n",
    "lr = lrc.LinearReflection('linear_refection', params, dim=2, photon_names = ['E','L'], sweep_params = sweep_params)\n"
   ]
  },
  {
   "cell_type": "code",
   "execution_count": 11,
   "metadata": {},
   "outputs": [
    {
     "name": "stdout",
     "output_type": "stream",
     "text": [
      "file open\n",
      "linear_reflection_coop_sweep_g.h5\n"
     ]
    }
   ],
   "source": [
    "if use_timestamp:\n",
    "    datest = datetime.datetime.now().strftime('%Y%m%d_%H%M%S') + '_'\n",
    "else:\n",
    "    datest=''\n",
    "try:\n",
    "    sim_name= datest+'linear_reflection_coop_sweep_g.h5'\n",
    "    datafile=h5.File(save_path+ sim_name, 'w')\n",
    "    print('file open')\n",
    "    print(sim_name)\n",
    "except:\n",
    "    datafile.close()"
   ]
  },
  {
   "cell_type": "code",
   "execution_count": 10,
   "metadata": {},
   "outputs": [
    {
     "name": "stdout",
     "output_type": "stream",
     "text": [
      "done\n"
     ]
    }
   ],
   "source": [
    "ps = {\n",
    "    \"1\":\n",
    "    {\"delta\": np.linspace(-0.6e10, 0.2e10, 50), \n",
    "     \"f_operation\": np.linspace(-2e9, 4e9, 1501)},\n",
    "    \n",
    "    \"10\":\n",
    "    {\"delta\":np.linspace(-1.2e10, 0.4e10, 50), \n",
    "     \"f_operation\":np.linspace(-1e9, 5e9, 1501)},\n",
    " \n",
    "    \"50\":\n",
    "    {\"delta\":np.linspace(-1.5e10, 0.8e10, 50), \n",
    "     \"f_operation\":np.linspace(0e9, 10e9, 1501)},\n",
    "    \n",
    "    \"100\":\n",
    "    {\"delta\":np.linspace(-1.5e10, 0.8e10, 50), \n",
    "     \"f_operation\":np.linspace(1e9, 12e9, 1501)},\n",
    "    \n",
    "    \"200\":\n",
    "    {\"delta\":np.linspace(-1.8e10, 1.e10, 50), \n",
    "     \"f_operation\":np.linspace(1e9, 25e9, 1501)},\n",
    "    \n",
    "    \"500\":\n",
    "    {\"delta\":np.linspace(-4e10, 1.0e10, 50), \n",
    "     \"f_operation\":np.linspace(1e9, 25e9, 1501)},\n",
    "    \n",
    "    \"1000\":\n",
    "    {\"delta\":np.linspace(-4e10, 1.0e10, 50), \n",
    "     \"f_operation\":np.linspace(5e9, 25e9, 1501)},\n",
    "    \n",
    "#     \"2500\":\n",
    "#     {\"delta\":np.linspace(-5e10, 1.0e10, 50), \n",
    "#      \"f_operation\":np.linspace(5e9, 30e9, 1501)},\n",
    "    \n",
    "#     \"5000\":\n",
    "#     {\"delta\":np.linspace(-6e10, 1.0e10, 50), \n",
    "#      \"f_operation\":np.linspace(5e9, 35e9, 1501)},\n",
    "}"
   ]
  },
  {
   "cell_type": "code",
   "execution_count": 11,
   "metadata": {},
   "outputs": [
    {
     "name": "stdout",
     "output_type": "stream",
     "text": [
      "Sweep time with multi was 6372.826 s\n",
      "Sweep time with multi was 6341.079 s\n",
      "Sweep time with multi was 6383.531 s\n",
      "Sweep time with multi was 6341.429 s\n",
      "Sweep time with multi was 6348.810 s\n",
      "Sweep time with multi was 6389.901 s\n",
      "Sweep time with multi was 6318.564 s\n"
     ]
    }
   ],
   "source": [
    "c_sweep = np.array([1, 10, 50, 100, 200, 500, 1000]) \n",
    "\n",
    "for c in c_sweep:\n",
    "    g = np.sqrt( c * (lr.parameters['kappa_in']+lr.parameters['kappa_loss']) * (lr.parameters['gamma']+lr.parameters['gamma_dephasing'])/4  )\n",
    "    lr.set_param('g', g)\n",
    "    \n",
    "    lr.set_sweep_param_range('delta', ps[str(c)][\"delta\"])\n",
    "    lr.set_sweep_param_range('f_operation',ps[str(c)][\"f_operation\"])\n",
    "    \n",
    "    grp_c = datafile.create_group('c_{}'.format(int(c)))\n",
    "    try:\n",
    "        grp_par=grp_c.create_group('sweep_params')\n",
    "        for name in sweep_params:\n",
    "            grp_par.attrs.create(name, lr.sweep_params[name]['range'])\n",
    "\n",
    "        grp_data=grp_c.create_group('data')\n",
    "\n",
    "        ff,rr = lr.multiprocess_sweep()\n",
    "        fr = stools.get_fidelity_rate_curve(ff, rr)\n",
    "\n",
    "        grp_data.create_dataset('fidelity_map', data=np.array(ff))\n",
    "        grp_data.create_dataset('rate_map', data=np.array(rr))\n",
    "        grp_data.create_dataset('fidelity_curve', data=np.array(fr[0]))\n",
    "        grp_data.create_dataset('rate_curve', data=np.array(fr[1]))\n",
    "        grp_data.attrs.update({k: params[k] for k in params.keys() - {'alpha'}})\n",
    "\n",
    "    except:\n",
    "        print('Running C = {} did not work'.format(c))\n",
    "\n",
    "\n",
    "datafile.close()"
   ]
  }
 ],
 "metadata": {
  "kernelspec": {
   "display_name": "Python 3",
   "language": "python",
   "name": "python3"
  },
  "language_info": {
   "codemirror_mode": {
    "name": "ipython",
    "version": 3
   },
   "file_extension": ".py",
   "mimetype": "text/x-python",
   "name": "python",
   "nbconvert_exporter": "python",
   "pygments_lexer": "ipython3",
   "version": "3.7.7"
  }
 },
 "nbformat": 4,
 "nbformat_minor": 4
}
