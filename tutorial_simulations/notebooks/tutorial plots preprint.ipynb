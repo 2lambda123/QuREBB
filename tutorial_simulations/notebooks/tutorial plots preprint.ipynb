{
 "cells": [
  {
   "cell_type": "markdown",
   "id": "04081f5c-6340-4047-8aba-2bca92e820c6",
   "metadata": {},
   "source": [
    "# Tutorial Plots - Preprint"
   ]
  },
  {
   "cell_type": "code",
   "execution_count": 13,
   "id": "ec2dfa77-aa74-4965-8ebc-a667eb8d2f6d",
   "metadata": {},
   "outputs": [],
   "source": [
    "# Make sure that the package can be imported\n",
    "import sys\n",
    "from os.path import expanduser, join, split\n",
    "home = expanduser(\"~\")\n",
    "sys.path.append(join(home, 'Repositories/QuREBB'))\n",
    "from importlib import reload  # Python 3.4+\n",
    "\n",
    "import numpy as np\n",
    "import qutip as qt\n",
    "import scipy.constants as cst\n",
    "import matplotlib.pyplot as plt\n",
    "import xarray as xr\n",
    "import glob\n",
    "\n",
    "import h5py as h5\n",
    "save_path=join(home, 'Repositories/QuREBB/tutorial_simulations/notebooks/simulations_preprint/')\n",
    "\n",
    "\n",
    "import time\n",
    "from copy import deepcopy\n",
    "\n",
    "qt.settings.auto_tidyup = False\n",
    "\n",
    "clr_dict = {\n",
    "    'dblue': '#2596be',#'#151F30',\n",
    "    'blue': '#0810b9', #'#103778',\n",
    "    'lblue': '#8488dc', #'#0593A2',\n",
    "    'orange': '#FF7A48',\n",
    "    'dorange': '#E3371E',\n",
    "    'red': '#972B17',\n",
    "    'dred': '#651C0F',\n",
    "    'dprl': '#952b98',\n",
    "    'lprl': '#b67dd7',\n",
    "    'vlprl': '#cea9e5'\n",
    "    \n",
    "    \n",
    "}"
   ]
  },
  {
   "cell_type": "code",
   "execution_count": null,
   "id": "6e08910e-9989-426e-8099-89ce5a26df8c",
   "metadata": {},
   "outputs": [],
   "source": [
    "default_colors_light = ['#0810b9', '#FF7A48','#972B17','#b67dd7']\n",
    "default_colors_dark = ['#2596be', '#E3371E', '#651C0F', '#952b98']\n",
    "\n",
    "default_shades_blue = ['#8488dc', '#0810b9', '#2596be']\n",
    "default_shades_purple = ['#cea9e5', '#b67dd7', '#952b98']"
   ]
  },
  {
   "cell_type": "markdown",
   "id": "d31eb3d2-68c8-4283-9793-3a02e8362f9d",
   "metadata": {},
   "source": [
    "## Helper Functions"
   ]
  },
  {
   "cell_type": "code",
   "execution_count": null,
   "id": "7b9f1aca-ba1b-47f3-955e-aa9949a0f780",
   "metadata": {},
   "outputs": [],
   "source": [
    "import matplotlib.ticker as mticker\n",
    "class AdditionalTickLocator(mticker.Locator):\n",
    "    '''This locator chains whatever locator given to it, and then add addition custom ticks to the result'''\n",
    "    def __init__(self, chain: mticker.Locator, ticks) -> None:\n",
    "        super().__init__()\n",
    "        assert chain is not None\n",
    "        self._chain = chain\n",
    "        self._additional_ticks = np.asarray(list(ticks))\n",
    "\n",
    "    def _add_locs(self, locs):\n",
    "        locs = np.unique(np.concatenate([\n",
    "            np.asarray(locs),\n",
    "            self._additional_ticks\n",
    "        ]))\n",
    "        return locs\n",
    "\n",
    "    def tick_values(self, vmin, vmax):\n",
    "        locs = self._chain.tick_values(vmin, vmax)\n",
    "        return self._add_locs(locs)\n",
    "\n",
    "    def __call__(self):\n",
    "        # this will call into chain's own tick_values,\n",
    "        # so we also add ours here\n",
    "        locs = self._chain.__call__()\n",
    "        return self._add_locs(locs)\n",
    "\n",
    "    def nonsingular(self, v0, v1):\n",
    "        return self._chain.nonsingular(v0, v1)\n",
    "    def set_params(self, **kwargs):\n",
    "        return self._chain.set_params(**kwargs)\n",
    "    def view_limits(self, vmin, vmax):\n",
    "        return self._chain.view_limits(vmin, vmax)\n",
    "\n",
    "\n",
    "class AdditionalTickFormatter(mticker.Formatter):\n",
    "    '''This formatter chains whatever formatter given to it, and\n",
    "    then does special formatting for those passed in custom ticks'''\n",
    "    def __init__(self, chain: mticker.Formatter, ticks) -> None:\n",
    "        super().__init__()\n",
    "        assert chain is not None\n",
    "        self._chain = chain\n",
    "        self._additional_ticks = ticks\n",
    "\n",
    "    def __call__(self, x, pos=None):\n",
    "        if x in self._additional_ticks:\n",
    "            return self._additional_ticks[x]\n",
    "        res = self._chain.__call__(x, pos)\n",
    "        return res\n",
    "\n",
    "    def format_data_short(self, value):\n",
    "        if value in self._additional_ticks:\n",
    "            return self.__call__(value)\n",
    "        return self._chain.format_data_short(value)\n",
    "\n",
    "    def get_offset(self):\n",
    "        return self._chain.get_offset()\n",
    "    \n",
    "    def _set_locator(self, locator):\n",
    "        self._chain._set_locator(locator)\n",
    "\n",
    "    def set_locs(self, locs):\n",
    "        self._chain.set_locs(locs)\n",
    "        \n",
    "def axis_add_custom_ticks(axis, ticks):\n",
    "    locator = axis.get_major_locator()\n",
    "    formatter = axis.get_major_formatter()\n",
    "    axis.set_major_locator(AdditionalTickLocator(locator, ticks.keys()))\n",
    "    axis.set_major_formatter(AdditionalTickFormatter(formatter, ticks))\n",
    "\n",
    "def find_latest_dataset(label, save_folder):\n",
    "    files = glob.glob( save_path + f\"*{label}*\")\n",
    "    dataset_names = [split(x)[-1] for x in files\n",
    "    ds_timestamps = [dt.strptime(x[:15], '%Y%m%d-%H%M%S') for x in dataset_names]\n",
    "    \n",
    "    time_stamp = dt.now()\n",
    "    (date_time, micro) = time_stamp.strftime(\"%Y%m%d-%H%M%S-.%f\").split(\".\")\n",
    "    date_time = f\"{date_time}\"[:-1]"
   ]
  },
  {
   "cell_type": "markdown",
   "id": "12603271-bcb9-4ac9-99e4-9c99cffe39f5",
   "metadata": {},
   "source": [
    "# Basic Params"
   ]
  },
  {
   "cell_type": "code",
   "execution_count": 44,
   "id": "18651b8c-20a3-4e61-be26-6354cd665065",
   "metadata": {},
   "outputs": [],
   "source": [
    "label='ProtocolA'\n",
    "f = glob.glob( save_path + f\"*{label}*\")"
   ]
  },
  {
   "cell_type": "code",
   "execution_count": 45,
   "id": "a88c016f-029a-4325-adc4-035b5455a3f5",
   "metadata": {},
   "outputs": [],
   "source": [
    "t0 = split(f[0])[-1][:15]\n",
    "t1 = split(f[1])[-1][:15]"
   ]
  },
  {
   "cell_type": "code",
   "execution_count": 46,
   "id": "f32fe162-4ed8-472c-96e9-db77d2fcd273",
   "metadata": {},
   "outputs": [],
   "source": [
    "from datetime import datetime as dt"
   ]
  },
  {
   "cell_type": "code",
   "execution_count": 56,
   "id": "2e83a81f-bbfe-4380-a0b6-189077eb403a",
   "metadata": {},
   "outputs": [
    {
     "data": {
      "text/plain": [
       "0.9486832980505138"
      ]
     },
     "execution_count": 56,
     "metadata": {},
     "output_type": "execute_result"
    }
   ],
   "source": [
    "np.sqrt(0.9)"
   ]
  },
  {
   "cell_type": "code",
   "execution_count": 54,
   "id": "7e50f24f-966c-4558-91bf-8a05b62e9645",
   "metadata": {},
   "outputs": [
    {
     "data": {
      "text/plain": [
       "array([datetime.datetime(2023, 10, 8, 0, 23, 1),\n",
       "       datetime.datetime(2023, 10, 8, 11, 25, 12)], dtype=object)"
      ]
     },
     "execution_count": 54,
     "metadata": {},
     "output_type": "execute_result"
    }
   ],
   "source": [
    "tt0 = dt.strptime(t0, '%Y%m%d-%H%M%S')\n",
    "tt1 = dt.strptime(t1, '%Y%m%d-%H%M%S')\n",
    "\n",
    "np.sort([tt1,tt0])"
   ]
  },
  {
   "cell_type": "code",
   "execution_count": null,
   "id": "ed49ba5e-0863-4af2-9bdb-d66bcf5a913e",
   "metadata": {},
   "outputs": [],
   "source": []
  }
 ],
 "metadata": {
  "kernelspec": {
   "display_name": "Python 3 (ipykernel)",
   "language": "python",
   "name": "python3"
  },
  "language_info": {
   "codemirror_mode": {
    "name": "ipython",
    "version": 3
   },
   "file_extension": ".py",
   "mimetype": "text/x-python",
   "name": "python",
   "nbconvert_exporter": "python",
   "pygments_lexer": "ipython3",
   "version": "3.11.5"
  }
 },
 "nbformat": 4,
 "nbformat_minor": 5
}
