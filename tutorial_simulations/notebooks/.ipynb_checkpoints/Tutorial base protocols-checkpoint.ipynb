{
 "cells": [
  {
   "cell_type": "code",
   "execution_count": 1,
   "metadata": {},
   "outputs": [],
   "source": [
    "import sys\n",
    "from os.path import expanduser, join\n",
    "home = expanduser(\"~\")\n",
    "sys.path.append(join(home, 'Repositories/QuREBB'))\n",
    "\n",
    "import numpy as np\n",
    "\n",
    "import lib.protocol as protocol\n",
    "from protocols.tutorial_protocols import ProtocolA, ProtocolB, ProtocolC"
   ]
  },
  {
   "cell_type": "code",
   "execution_count": 2,
   "metadata": {},
   "outputs": [],
   "source": [
    "common_params = {\n",
    "    'gamma_dephasing': 30.5e6,\n",
    "    'splitting': 1e9,\n",
    "    'DW': 0.7,\n",
    "    'QE': 0.2,\n",
    "    'link_loss': 0.99,\n",
    "    'insertion_loss': 0.5,\n",
    "    'dim': 3,\n",
    "    'dc_rate': 0,\n",
    "    'ideal': False\n",
    "}\n",
    "\n",
    "projector_params = {\n",
    "    'f_operation': 0e9,\n",
    "    'delta': 0e9,\n",
    "    'kappa_r': 21.8e9/2,\n",
    "    'kappa_t': 21.8e9/2, \n",
    "    'gamma': 92.5e6,\n",
    "    'g': 8.38e9,\n",
    "    'dc_rate': 0.000,\n",
    "    'alpha': None\n",
    "}\n",
    "\n",
    "emission_params = {\n",
    "    'f_operation': 0e9,\n",
    "    'delta': 0e9,\n",
    "    'kappa_in': 240e9,\n",
    "    'kappa_loss': 89e9, \n",
    "    'gamma': 100e6,\n",
    "    'g': 6.81e9,\n",
    "    'alpha': 0.1\n",
    "}\n",
    "projector_params.update(common_params)\n",
    "emission_params.update(common_params)"
   ]
  },
  {
   "cell_type": "code",
   "execution_count": 3,
   "metadata": {},
   "outputs": [
    {
     "data": {
      "text/plain": [
       "(0.7842707947888572, 0.012418908351887805)"
      ]
     },
     "execution_count": 3,
     "metadata": {},
     "output_type": "execute_result"
    }
   ],
   "source": [
    "p = ProtocolA(emission_params)\n",
    "p.run()"
   ]
  },
  {
   "cell_type": "code",
   "execution_count": 4,
   "metadata": {},
   "outputs": [
    {
     "ename": "AttributeError",
     "evalue": "module 'lib.NQobj' has no attribute 'trace_out_loss_modes'",
     "output_type": "error",
     "traceback": [
      "\u001b[0;31m---------------------------------------------------------------------------\u001b[0m",
      "\u001b[0;31mAttributeError\u001b[0m                            Traceback (most recent call last)",
      "Cell \u001b[0;32mIn[4], line 2\u001b[0m\n\u001b[1;32m      1\u001b[0m p \u001b[38;5;241m=\u001b[39m ProtocolB(projector_params)\n\u001b[0;32m----> 2\u001b[0m \u001b[43mp\u001b[49m\u001b[38;5;241;43m.\u001b[39;49m\u001b[43mrun\u001b[49m\u001b[43m(\u001b[49m\u001b[43m)\u001b[49m\n",
      "File \u001b[0;32m~/Repositories/QuREBB/lib/protocol.py:59\u001b[0m, in \u001b[0;36mProtocol.run\u001b[0;34m(self)\u001b[0m\n\u001b[1;32m     57\u001b[0m \u001b[38;5;250m\u001b[39m\u001b[38;5;124;03m\"\"\"Runs the protocol sequence and return the metrics\"\"\"\u001b[39;00m\n\u001b[1;32m     58\u001b[0m \u001b[38;5;28mself\u001b[39m\u001b[38;5;241m.\u001b[39mdm \u001b[38;5;241m=\u001b[39m \u001b[38;5;28mself\u001b[39m\u001b[38;5;241m.\u001b[39mdm_init\n\u001b[0;32m---> 59\u001b[0m \u001b[38;5;28;43mself\u001b[39;49m\u001b[38;5;241;43m.\u001b[39;49m\u001b[43mprotocol_sequence\u001b[49m\u001b[43m(\u001b[49m\u001b[43m)\u001b[49m\n\u001b[1;32m     60\u001b[0m fidelity, rate \u001b[38;5;241m=\u001b[39m \u001b[38;5;28mself\u001b[39m\u001b[38;5;241m.\u001b[39mherald()\n\u001b[1;32m     61\u001b[0m \u001b[38;5;28;01mreturn\u001b[39;00m fidelity, rate\n",
      "File \u001b[0;32m~/Repositories/QuREBB/protocols/tutorial_protocols.py:60\u001b[0m, in \u001b[0;36mProtocolB.protocol_sequence\u001b[0;34m(self)\u001b[0m\n\u001b[1;32m     58\u001b[0m \u001b[38;5;28mself\u001b[39m\u001b[38;5;241m.\u001b[39mdo_lbb(lbb\u001b[38;5;241m.\u001b[39mPhotonSourceTimeBin, photon_early_name\u001b[38;5;241m=\u001b[39m\u001b[38;5;124m'\u001b[39m\u001b[38;5;124mEa\u001b[39m\u001b[38;5;124m'\u001b[39m, photon_late_name\u001b[38;5;241m=\u001b[39m\u001b[38;5;124m'\u001b[39m\u001b[38;5;124mLa\u001b[39m\u001b[38;5;124m'\u001b[39m)\n\u001b[1;32m     59\u001b[0m \u001b[38;5;28mself\u001b[39m\u001b[38;5;241m.\u001b[39mdo_lbb_on_photons(lbb\u001b[38;5;241m.\u001b[39mModeLoss, photon_names \u001b[38;5;241m=\u001b[39m [\u001b[38;5;124m\"\u001b[39m\u001b[38;5;124mEa\u001b[39m\u001b[38;5;124m\"\u001b[39m, \u001b[38;5;124m\"\u001b[39m\u001b[38;5;124mLa\u001b[39m\u001b[38;5;124m\"\u001b[39m], loss\u001b[38;5;241m=\u001b[39m\u001b[38;5;28mself\u001b[39m\u001b[38;5;241m.\u001b[39mparameters[\u001b[38;5;124m\"\u001b[39m\u001b[38;5;124minsertion_loss\u001b[39m\u001b[38;5;124m\"\u001b[39m])\n\u001b[0;32m---> 60\u001b[0m \u001b[38;5;28;43mself\u001b[39;49m\u001b[38;5;241;43m.\u001b[39;49m\u001b[43mdo_lbb\u001b[49m\u001b[43m(\u001b[49m\u001b[43mlbb\u001b[49m\u001b[38;5;241;43m.\u001b[39;49m\u001b[43mConditionalAmplitudeReflectionTimeBinSPI\u001b[49m\u001b[43m,\u001b[49m\u001b[43m \u001b[49m\u001b[43mphoton_early_name\u001b[49m\u001b[38;5;241;43m=\u001b[39;49m\u001b[38;5;124;43m'\u001b[39;49m\u001b[38;5;124;43mEa\u001b[39;49m\u001b[38;5;124;43m'\u001b[39;49m\u001b[43m,\u001b[49m\u001b[43m \u001b[49m\u001b[43mphoton_late_name\u001b[49m\u001b[38;5;241;43m=\u001b[39;49m\u001b[38;5;124;43m'\u001b[39;49m\u001b[38;5;124;43mLa\u001b[39;49m\u001b[38;5;124;43m'\u001b[39;49m\u001b[43m,\u001b[49m\u001b[43m \u001b[49m\u001b[43mspin_name\u001b[49m\u001b[38;5;241;43m=\u001b[39;49m\u001b[38;5;124;43m\"\u001b[39;49m\u001b[38;5;124;43mAlice\u001b[39;49m\u001b[38;5;124;43m\"\u001b[39;49m\u001b[43m)\u001b[49m\n\u001b[1;32m     61\u001b[0m \u001b[38;5;28mself\u001b[39m\u001b[38;5;241m.\u001b[39mdo_lbb_on_photons(lbb\u001b[38;5;241m.\u001b[39mModeLoss, photon_names \u001b[38;5;241m=\u001b[39m [\u001b[38;5;124m\"\u001b[39m\u001b[38;5;124mEa\u001b[39m\u001b[38;5;124m\"\u001b[39m, \u001b[38;5;124m\"\u001b[39m\u001b[38;5;124mLa\u001b[39m\u001b[38;5;124m\"\u001b[39m], loss\u001b[38;5;241m=\u001b[39m\u001b[38;5;28mself\u001b[39m\u001b[38;5;241m.\u001b[39mparameters[\u001b[38;5;124m\"\u001b[39m\u001b[38;5;124minsertion_loss\u001b[39m\u001b[38;5;124m\"\u001b[39m])\n\u001b[1;32m     63\u001b[0m \u001b[38;5;28mself\u001b[39m\u001b[38;5;241m.\u001b[39mdo_lbb(lbb\u001b[38;5;241m.\u001b[39mPhotonSourceTimeBin, photon_early_name\u001b[38;5;241m=\u001b[39m\u001b[38;5;124m'\u001b[39m\u001b[38;5;124mEb\u001b[39m\u001b[38;5;124m'\u001b[39m, photon_late_name\u001b[38;5;241m=\u001b[39m\u001b[38;5;124m'\u001b[39m\u001b[38;5;124mLb\u001b[39m\u001b[38;5;124m'\u001b[39m)\n",
      "File \u001b[0;32m~/Repositories/QuREBB/lib/protocol.py:71\u001b[0m, in \u001b[0;36mProtocol.do_lbb\u001b[0;34m(self, LBB, **kwargs)\u001b[0m\n\u001b[1;32m     68\u001b[0m \u001b[38;5;250m\u001b[39m\u001b[38;5;124;03m\"\"\"Makes a logical building block act on the density matrix.\"\"\"\u001b[39;00m\n\u001b[1;32m     69\u001b[0m kwargs\u001b[38;5;241m.\u001b[39mupdate(\u001b[38;5;28mself\u001b[39m\u001b[38;5;241m.\u001b[39mparameters)\n\u001b[0;32m---> 71\u001b[0m \u001b[38;5;28mself\u001b[39m\u001b[38;5;241m.\u001b[39mdm \u001b[38;5;241m=\u001b[39m \u001b[43mLBB\u001b[49m\u001b[43m(\u001b[49m\n\u001b[1;32m     72\u001b[0m \u001b[43m    \u001b[49m\u001b[43mdm_in\u001b[49m\u001b[43m \u001b[49m\u001b[38;5;241;43m=\u001b[39;49m\u001b[43m \u001b[49m\u001b[38;5;28;43mself\u001b[39;49m\u001b[38;5;241;43m.\u001b[39;49m\u001b[43mdm\u001b[49m\u001b[43m,\u001b[49m\n\u001b[1;32m     73\u001b[0m \u001b[43m    \u001b[49m\u001b[38;5;241;43m*\u001b[39;49m\u001b[38;5;241;43m*\u001b[39;49m\u001b[43mkwargs\u001b[49m\n\u001b[1;32m     74\u001b[0m \u001b[43m\u001b[49m\u001b[43m)\u001b[49m\n",
      "File \u001b[0;32m~/Repositories/QuREBB/lib/LBB.py:154\u001b[0m, in \u001b[0;36mConditionalAmplitudeReflectionTimeBinSPI\u001b[0;34m(dm_in, spin_name, photon_early_name, photon_late_name, dim, atom_centered, f_operation, kappa_r, kappa_t, kappa_loss, gamma, delta, splitting, g, ideal, gamma_dephasing, **kwargs)\u001b[0m\n\u001b[1;32m    152\u001b[0m cav\u001b[38;5;241m.\u001b[39mrename(\u001b[38;5;124m\"\u001b[39m\u001b[38;5;124mloss\u001b[39m\u001b[38;5;124m\"\u001b[39m, \u001b[38;5;124m\"\u001b[39m\u001b[38;5;124mloss\u001b[39m\u001b[38;5;124m\"\u001b[39m)\n\u001b[1;32m    153\u001b[0m dm_E_full \u001b[38;5;241m=\u001b[39m cav \u001b[38;5;241m*\u001b[39m dm_in \u001b[38;5;241m*\u001b[39m cav\u001b[38;5;241m.\u001b[39mdag()\n\u001b[0;32m--> 154\u001b[0m dm_E \u001b[38;5;241m=\u001b[39m \u001b[43mnq\u001b[49m\u001b[38;5;241;43m.\u001b[39;49m\u001b[43mtrace_out_loss_modes\u001b[49m(dm_E_full)\n\u001b[1;32m    156\u001b[0m \u001b[38;5;66;03m# Flip spin and scatter late\u001b[39;00m\n\u001b[1;32m    157\u001b[0m RX_pi \u001b[38;5;241m=\u001b[39m nq\u001b[38;5;241m.\u001b[39mNQobj([[\u001b[38;5;241m0\u001b[39m, \u001b[38;5;241m1\u001b[39m], [\u001b[38;5;241m1\u001b[39m, \u001b[38;5;241m0\u001b[39m]], names\u001b[38;5;241m=\u001b[39mspin_name, kind\u001b[38;5;241m=\u001b[39m\u001b[38;5;124m'\u001b[39m\u001b[38;5;124moper\u001b[39m\u001b[38;5;124m'\u001b[39m)\n",
      "\u001b[0;31mAttributeError\u001b[0m: module 'lib.NQobj' has no attribute 'trace_out_loss_modes'"
     ]
    }
   ],
   "source": [
    "p = ProtocolB(projector_params)\n",
    "p.run()"
   ]
  },
  {
   "cell_type": "code",
   "execution_count": null,
   "metadata": {},
   "outputs": [],
   "source": [
    "p = ProtocolC(projector_params)\n",
    "p.run()"
   ]
  },
  {
   "cell_type": "code",
   "execution_count": null,
   "metadata": {},
   "outputs": [],
   "source": []
  }
 ],
 "metadata": {
  "kernelspec": {
   "display_name": "Python 3 (ipykernel)",
   "language": "python",
   "name": "python3"
  },
  "language_info": {
   "codemirror_mode": {
    "name": "ipython",
    "version": 3
   },
   "file_extension": ".py",
   "mimetype": "text/x-python",
   "name": "python",
   "nbconvert_exporter": "python",
   "pygments_lexer": "ipython3",
   "version": "3.11.0"
  }
 },
 "nbformat": 4,
 "nbformat_minor": 4
}
